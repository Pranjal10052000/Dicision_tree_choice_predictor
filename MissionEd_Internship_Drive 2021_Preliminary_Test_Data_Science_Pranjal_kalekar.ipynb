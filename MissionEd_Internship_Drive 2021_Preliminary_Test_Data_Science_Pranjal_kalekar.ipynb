{
 "cells": [
  {
   "cell_type": "code",
   "execution_count": 82,
   "metadata": {},
   "outputs": [],
   "source": [
    "import pandas as pd\n",
    "import numpy as np\n",
    "\n",
    "import matplotlib.pyplot as plt"
   ]
  },
  {
   "cell_type": "code",
   "execution_count": 83,
   "metadata": {},
   "outputs": [
    {
     "data": {
      "text/html": [
       "<div>\n",
       "<style scoped>\n",
       "    .dataframe tbody tr th:only-of-type {\n",
       "        vertical-align: middle;\n",
       "    }\n",
       "\n",
       "    .dataframe tbody tr th {\n",
       "        vertical-align: top;\n",
       "    }\n",
       "\n",
       "    .dataframe thead th {\n",
       "        text-align: right;\n",
       "    }\n",
       "</style>\n",
       "<table border=\"1\" class=\"dataframe\">\n",
       "  <thead>\n",
       "    <tr style=\"text-align: right;\">\n",
       "      <th></th>\n",
       "      <th>Age.</th>\n",
       "      <th>Gender</th>\n",
       "      <th>State</th>\n",
       "      <th>City</th>\n",
       "      <th>Selectanyoneproductyoulike</th>\n",
       "    </tr>\n",
       "    <tr>\n",
       "      <th>Timestamp</th>\n",
       "      <th></th>\n",
       "      <th></th>\n",
       "      <th></th>\n",
       "      <th></th>\n",
       "      <th></th>\n",
       "    </tr>\n",
       "  </thead>\n",
       "  <tbody>\n",
       "    <tr>\n",
       "      <th>7/22/202116:17:30</th>\n",
       "      <td>21</td>\n",
       "      <td>Female</td>\n",
       "      <td>Maharashtra</td>\n",
       "      <td>Jaysingpur</td>\n",
       "      <td>ColorFitProSmartwatch</td>\n",
       "    </tr>\n",
       "    <tr>\n",
       "      <th>7/22/202116:30:15</th>\n",
       "      <td>20</td>\n",
       "      <td>Male</td>\n",
       "      <td>Maharashtra</td>\n",
       "      <td>Kalyan</td>\n",
       "      <td>AmazonPrimeSubscription</td>\n",
       "    </tr>\n",
       "    <tr>\n",
       "      <th>7/22/202116:47:02</th>\n",
       "      <td>21</td>\n",
       "      <td>Male</td>\n",
       "      <td>Maharashtra</td>\n",
       "      <td>Thane</td>\n",
       "      <td>FireBolttHeadphones</td>\n",
       "    </tr>\n",
       "    <tr>\n",
       "      <th>7/22/202117:18:49</th>\n",
       "      <td>20</td>\n",
       "      <td>Male</td>\n",
       "      <td>Maharashtra</td>\n",
       "      <td>Mumbai</td>\n",
       "      <td>FireBolttHeadphones</td>\n",
       "    </tr>\n",
       "    <tr>\n",
       "      <th>7/22/202117:21:07</th>\n",
       "      <td>22</td>\n",
       "      <td>Male</td>\n",
       "      <td>Maharashtra</td>\n",
       "      <td>Shirol</td>\n",
       "      <td>FiftyShadesofGrey</td>\n",
       "    </tr>\n",
       "  </tbody>\n",
       "</table>\n",
       "</div>"
      ],
      "text/plain": [
       "                   Age.  Gender        State        City  \\\n",
       "Timestamp                                                  \n",
       "7/22/202116:17:30    21  Female  Maharashtra  Jaysingpur   \n",
       "7/22/202116:30:15    20    Male  Maharashtra      Kalyan   \n",
       "7/22/202116:47:02    21    Male  Maharashtra       Thane   \n",
       "7/22/202117:18:49    20    Male  Maharashtra      Mumbai   \n",
       "7/22/202117:21:07    22    Male  Maharashtra      Shirol   \n",
       "\n",
       "                  Selectanyoneproductyoulike  \n",
       "Timestamp                                     \n",
       "7/22/202116:17:30      ColorFitProSmartwatch  \n",
       "7/22/202116:30:15    AmazonPrimeSubscription  \n",
       "7/22/202116:47:02        FireBolttHeadphones  \n",
       "7/22/202117:18:49        FireBolttHeadphones  \n",
       "7/22/202117:21:07          FiftyShadesofGrey  "
      ]
     },
     "execution_count": 83,
     "metadata": {},
     "output_type": "execute_result"
    }
   ],
   "source": [
    "df = pd.read_csv('data.csv', index_col=0)\n",
    "\n",
    "# Enter code heres\n",
    "df.head()\n",
    "#df.shape = (204, 5)"
   ]
  },
  {
   "cell_type": "code",
   "execution_count": 84,
   "metadata": {},
   "outputs": [
    {
     "data": {
      "text/plain": [
       "(14,)"
      ]
     },
     "execution_count": 84,
     "metadata": {},
     "output_type": "execute_result"
    }
   ],
   "source": [
    "states = df['State'].unique()\n",
    "states.shape"
   ]
  },
  {
   "cell_type": "code",
   "execution_count": 85,
   "metadata": {},
   "outputs": [
    {
     "data": {
      "text/plain": [
       "array(['Maharashtra', 'J&K', 'MadhyaPradesh', 'Karnataka', 'WestBengal',\n",
       "       'Gujarat', 'NewDelhi', 'Rajasthan', 'Assam', 'TamilNadu', 'Punjab',\n",
       "       'Kerla', 'UttarPradesh', 'Tripura'], dtype=object)"
      ]
     },
     "execution_count": 85,
     "metadata": {},
     "output_type": "execute_result"
    }
   ],
   "source": [
    "states"
   ]
  },
  {
   "cell_type": "code",
   "execution_count": 86,
   "metadata": {},
   "outputs": [
    {
     "data": {
      "text/plain": [
       "(60,)"
      ]
     },
     "execution_count": 86,
     "metadata": {},
     "output_type": "execute_result"
    }
   ],
   "source": [
    "cities = df['City'].unique()\n",
    "cities.shape"
   ]
  },
  {
   "cell_type": "code",
   "execution_count": 87,
   "metadata": {},
   "outputs": [
    {
     "data": {
      "text/plain": [
       "array(['Jaysingpur', 'Kalyan', 'Thane', 'Mumbai', 'Shirol', 'Jammu',\n",
       "       'Aurangabad', 'Nagpur', 'Indore', 'Dhule', 'Hubli', 'Nashik',\n",
       "       'Pune', 'Kolkata', 'Kolhapur', 'Sangli', 'Latur', 'Parbhani',\n",
       "       'NaviMumbai', 'Chandrapur', 'Amravati', 'Akola', 'Bhopal', 'Surat',\n",
       "       'Satara', 'Newmumbai', 'Dombivali', 'Delhi', 'Titwala', 'Jodhpur',\n",
       "       'Tumsar', 'Nanded', 'Dibrugarh', 'Chennai', 'Kankavli', 'Hubali',\n",
       "       'Nipani', 'Kurundwad', 'Barshi', 'Ludhiana', 'Bengaluru',\n",
       "       'Bhiwandi', 'Kochi', 'Tirur', 'Ichalkaranji', 'Kothrud',\n",
       "       'Pandharpur', 'Luknow', 'Varanasi', 'Agra', 'Merut', 'Noida',\n",
       "       'Agara', 'Amritsar', 'Patiala', 'Guwahati', 'Agartala',\n",
       "       'Jalandhar', 'Lucknow', 'Jaisingpur'], dtype=object)"
      ]
     },
     "execution_count": 87,
     "metadata": {},
     "output_type": "execute_result"
    }
   ],
   "source": [
    "cities"
   ]
  },
  {
   "cell_type": "code",
   "execution_count": 88,
   "metadata": {},
   "outputs": [
    {
     "data": {
      "text/plain": [
       "(8,)"
      ]
     },
     "execution_count": 88,
     "metadata": {},
     "output_type": "execute_result"
    }
   ],
   "source": [
    "product = df.Selectanyoneproductyoulike.unique()\n",
    "product.shape"
   ]
  },
  {
   "cell_type": "code",
   "execution_count": 89,
   "metadata": {},
   "outputs": [
    {
     "data": {
      "text/plain": [
       "array(['ColorFitProSmartwatch', 'AmazonPrimeSubscription',\n",
       "       'FireBolttHeadphones', 'FiftyShadesofGrey', 'FoggPerfumeforMen',\n",
       "       'pTronLiteEarphones', \"Men'sShoesSneakers\", 'LeatherWalletforMen'],\n",
       "      dtype=object)"
      ]
     },
     "execution_count": 89,
     "metadata": {},
     "output_type": "execute_result"
    }
   ],
   "source": [
    "product"
   ]
  },
  {
   "cell_type": "code",
   "execution_count": 90,
   "metadata": {},
   "outputs": [],
   "source": [
    "X = df.drop(columns=['Selectanyoneproductyoulike'])"
   ]
  },
  {
   "cell_type": "code",
   "execution_count": 91,
   "metadata": {},
   "outputs": [
    {
     "data": {
      "text/html": [
       "<div>\n",
       "<style scoped>\n",
       "    .dataframe tbody tr th:only-of-type {\n",
       "        vertical-align: middle;\n",
       "    }\n",
       "\n",
       "    .dataframe tbody tr th {\n",
       "        vertical-align: top;\n",
       "    }\n",
       "\n",
       "    .dataframe thead th {\n",
       "        text-align: right;\n",
       "    }\n",
       "</style>\n",
       "<table border=\"1\" class=\"dataframe\">\n",
       "  <thead>\n",
       "    <tr style=\"text-align: right;\">\n",
       "      <th></th>\n",
       "      <th>Age.</th>\n",
       "      <th>Gender</th>\n",
       "      <th>State</th>\n",
       "      <th>City</th>\n",
       "    </tr>\n",
       "    <tr>\n",
       "      <th>Timestamp</th>\n",
       "      <th></th>\n",
       "      <th></th>\n",
       "      <th></th>\n",
       "      <th></th>\n",
       "    </tr>\n",
       "  </thead>\n",
       "  <tbody>\n",
       "    <tr>\n",
       "      <th>7/22/202116:17:30</th>\n",
       "      <td>21</td>\n",
       "      <td>Female</td>\n",
       "      <td>Maharashtra</td>\n",
       "      <td>Jaysingpur</td>\n",
       "    </tr>\n",
       "    <tr>\n",
       "      <th>7/22/202116:30:15</th>\n",
       "      <td>20</td>\n",
       "      <td>Male</td>\n",
       "      <td>Maharashtra</td>\n",
       "      <td>Kalyan</td>\n",
       "    </tr>\n",
       "    <tr>\n",
       "      <th>7/22/202116:47:02</th>\n",
       "      <td>21</td>\n",
       "      <td>Male</td>\n",
       "      <td>Maharashtra</td>\n",
       "      <td>Thane</td>\n",
       "    </tr>\n",
       "    <tr>\n",
       "      <th>7/22/202117:18:49</th>\n",
       "      <td>20</td>\n",
       "      <td>Male</td>\n",
       "      <td>Maharashtra</td>\n",
       "      <td>Mumbai</td>\n",
       "    </tr>\n",
       "    <tr>\n",
       "      <th>7/22/202117:21:07</th>\n",
       "      <td>22</td>\n",
       "      <td>Male</td>\n",
       "      <td>Maharashtra</td>\n",
       "      <td>Shirol</td>\n",
       "    </tr>\n",
       "  </tbody>\n",
       "</table>\n",
       "</div>"
      ],
      "text/plain": [
       "                   Age.  Gender        State        City\n",
       "Timestamp                                               \n",
       "7/22/202116:17:30    21  Female  Maharashtra  Jaysingpur\n",
       "7/22/202116:30:15    20    Male  Maharashtra      Kalyan\n",
       "7/22/202116:47:02    21    Male  Maharashtra       Thane\n",
       "7/22/202117:18:49    20    Male  Maharashtra      Mumbai\n",
       "7/22/202117:21:07    22    Male  Maharashtra      Shirol"
      ]
     },
     "execution_count": 91,
     "metadata": {},
     "output_type": "execute_result"
    }
   ],
   "source": [
    "X.head()"
   ]
  },
  {
   "cell_type": "code",
   "execution_count": 92,
   "metadata": {},
   "outputs": [
    {
     "data": {
      "text/html": [
       "<div>\n",
       "<style scoped>\n",
       "    .dataframe tbody tr th:only-of-type {\n",
       "        vertical-align: middle;\n",
       "    }\n",
       "\n",
       "    .dataframe tbody tr th {\n",
       "        vertical-align: top;\n",
       "    }\n",
       "\n",
       "    .dataframe thead th {\n",
       "        text-align: right;\n",
       "    }\n",
       "</style>\n",
       "<table border=\"1\" class=\"dataframe\">\n",
       "  <thead>\n",
       "    <tr style=\"text-align: right;\">\n",
       "      <th></th>\n",
       "      <th>Age.</th>\n",
       "      <th>Gender</th>\n",
       "      <th>State</th>\n",
       "      <th>City</th>\n",
       "    </tr>\n",
       "    <tr>\n",
       "      <th>Timestamp</th>\n",
       "      <th></th>\n",
       "      <th></th>\n",
       "      <th></th>\n",
       "      <th></th>\n",
       "    </tr>\n",
       "  </thead>\n",
       "  <tbody>\n",
       "    <tr>\n",
       "      <th>7/22/202116:17:30</th>\n",
       "      <td>21</td>\n",
       "      <td>Female</td>\n",
       "      <td>Maharashtra</td>\n",
       "      <td>Jaysingpur</td>\n",
       "    </tr>\n",
       "    <tr>\n",
       "      <th>7/22/202116:30:15</th>\n",
       "      <td>20</td>\n",
       "      <td>Male</td>\n",
       "      <td>Maharashtra</td>\n",
       "      <td>Kalyan</td>\n",
       "    </tr>\n",
       "    <tr>\n",
       "      <th>7/22/202116:47:02</th>\n",
       "      <td>21</td>\n",
       "      <td>Male</td>\n",
       "      <td>Maharashtra</td>\n",
       "      <td>Thane</td>\n",
       "    </tr>\n",
       "    <tr>\n",
       "      <th>7/22/202117:18:49</th>\n",
       "      <td>20</td>\n",
       "      <td>Male</td>\n",
       "      <td>Maharashtra</td>\n",
       "      <td>Mumbai</td>\n",
       "    </tr>\n",
       "    <tr>\n",
       "      <th>7/22/202117:21:07</th>\n",
       "      <td>22</td>\n",
       "      <td>Male</td>\n",
       "      <td>Maharashtra</td>\n",
       "      <td>Shirol</td>\n",
       "    </tr>\n",
       "  </tbody>\n",
       "</table>\n",
       "</div>"
      ],
      "text/plain": [
       "                   Age.  Gender        State        City\n",
       "Timestamp                                               \n",
       "7/22/202116:17:30    21  Female  Maharashtra  Jaysingpur\n",
       "7/22/202116:30:15    20    Male  Maharashtra      Kalyan\n",
       "7/22/202116:47:02    21    Male  Maharashtra       Thane\n",
       "7/22/202117:18:49    20    Male  Maharashtra      Mumbai\n",
       "7/22/202117:21:07    22    Male  Maharashtra      Shirol"
      ]
     },
     "execution_count": 92,
     "metadata": {},
     "output_type": "execute_result"
    }
   ],
   "source": [
    "mod_x = X\n",
    "mod_x.head()"
   ]
  },
  {
   "cell_type": "code",
   "execution_count": 93,
   "metadata": {},
   "outputs": [
    {
     "data": {
      "text/plain": [
       "array(['Female', 'Male', 'Prefernottosay'], dtype=object)"
      ]
     },
     "execution_count": 93,
     "metadata": {},
     "output_type": "execute_result"
    }
   ],
   "source": [
    "mod_x.Gender.unique()"
   ]
  },
  {
   "cell_type": "code",
   "execution_count": 94,
   "metadata": {},
   "outputs": [],
   "source": [
    "mod_x.Gender = mod_x.Gender.replace(to_replace = ['Female', 'Male', 'Prefernottosay'], value = [i for i in range(1,4)])"
   ]
  },
  {
   "cell_type": "code",
   "execution_count": 95,
   "metadata": {},
   "outputs": [
    {
     "data": {
      "text/html": [
       "<div>\n",
       "<style scoped>\n",
       "    .dataframe tbody tr th:only-of-type {\n",
       "        vertical-align: middle;\n",
       "    }\n",
       "\n",
       "    .dataframe tbody tr th {\n",
       "        vertical-align: top;\n",
       "    }\n",
       "\n",
       "    .dataframe thead th {\n",
       "        text-align: right;\n",
       "    }\n",
       "</style>\n",
       "<table border=\"1\" class=\"dataframe\">\n",
       "  <thead>\n",
       "    <tr style=\"text-align: right;\">\n",
       "      <th></th>\n",
       "      <th>Age.</th>\n",
       "      <th>Gender</th>\n",
       "      <th>State</th>\n",
       "      <th>City</th>\n",
       "    </tr>\n",
       "    <tr>\n",
       "      <th>Timestamp</th>\n",
       "      <th></th>\n",
       "      <th></th>\n",
       "      <th></th>\n",
       "      <th></th>\n",
       "    </tr>\n",
       "  </thead>\n",
       "  <tbody>\n",
       "    <tr>\n",
       "      <th>7/22/202116:17:30</th>\n",
       "      <td>21</td>\n",
       "      <td>1</td>\n",
       "      <td>Maharashtra</td>\n",
       "      <td>Jaysingpur</td>\n",
       "    </tr>\n",
       "    <tr>\n",
       "      <th>7/22/202116:30:15</th>\n",
       "      <td>20</td>\n",
       "      <td>2</td>\n",
       "      <td>Maharashtra</td>\n",
       "      <td>Kalyan</td>\n",
       "    </tr>\n",
       "    <tr>\n",
       "      <th>7/22/202116:47:02</th>\n",
       "      <td>21</td>\n",
       "      <td>2</td>\n",
       "      <td>Maharashtra</td>\n",
       "      <td>Thane</td>\n",
       "    </tr>\n",
       "    <tr>\n",
       "      <th>7/22/202117:18:49</th>\n",
       "      <td>20</td>\n",
       "      <td>2</td>\n",
       "      <td>Maharashtra</td>\n",
       "      <td>Mumbai</td>\n",
       "    </tr>\n",
       "    <tr>\n",
       "      <th>7/22/202117:21:07</th>\n",
       "      <td>22</td>\n",
       "      <td>2</td>\n",
       "      <td>Maharashtra</td>\n",
       "      <td>Shirol</td>\n",
       "    </tr>\n",
       "  </tbody>\n",
       "</table>\n",
       "</div>"
      ],
      "text/plain": [
       "                   Age.  Gender        State        City\n",
       "Timestamp                                               \n",
       "7/22/202116:17:30    21       1  Maharashtra  Jaysingpur\n",
       "7/22/202116:30:15    20       2  Maharashtra      Kalyan\n",
       "7/22/202116:47:02    21       2  Maharashtra       Thane\n",
       "7/22/202117:18:49    20       2  Maharashtra      Mumbai\n",
       "7/22/202117:21:07    22       2  Maharashtra      Shirol"
      ]
     },
     "execution_count": 95,
     "metadata": {},
     "output_type": "execute_result"
    }
   ],
   "source": [
    "mod_x.head()"
   ]
  },
  {
   "cell_type": "code",
   "execution_count": 96,
   "metadata": {},
   "outputs": [],
   "source": [
    "mod_x.State = mod_x.State.replace(to_replace = ['Maharashtra', 'J&K', 'MadhyaPradesh', 'Karnataka', 'WestBengal',\n",
    "       'Gujarat', 'NewDelhi', 'Rajasthan', 'Assam', 'TamilNadu', 'Punjab',\n",
    "       'Kerla', 'UttarPradesh', 'Tripura'], value = [i for i in range(1,15)])"
   ]
  },
  {
   "cell_type": "code",
   "execution_count": 97,
   "metadata": {},
   "outputs": [
    {
     "data": {
      "text/html": [
       "<div>\n",
       "<style scoped>\n",
       "    .dataframe tbody tr th:only-of-type {\n",
       "        vertical-align: middle;\n",
       "    }\n",
       "\n",
       "    .dataframe tbody tr th {\n",
       "        vertical-align: top;\n",
       "    }\n",
       "\n",
       "    .dataframe thead th {\n",
       "        text-align: right;\n",
       "    }\n",
       "</style>\n",
       "<table border=\"1\" class=\"dataframe\">\n",
       "  <thead>\n",
       "    <tr style=\"text-align: right;\">\n",
       "      <th></th>\n",
       "      <th>Age.</th>\n",
       "      <th>Gender</th>\n",
       "      <th>State</th>\n",
       "      <th>City</th>\n",
       "    </tr>\n",
       "    <tr>\n",
       "      <th>Timestamp</th>\n",
       "      <th></th>\n",
       "      <th></th>\n",
       "      <th></th>\n",
       "      <th></th>\n",
       "    </tr>\n",
       "  </thead>\n",
       "  <tbody>\n",
       "    <tr>\n",
       "      <th>7/22/202116:17:30</th>\n",
       "      <td>21</td>\n",
       "      <td>1</td>\n",
       "      <td>1</td>\n",
       "      <td>Jaysingpur</td>\n",
       "    </tr>\n",
       "    <tr>\n",
       "      <th>7/22/202116:30:15</th>\n",
       "      <td>20</td>\n",
       "      <td>2</td>\n",
       "      <td>1</td>\n",
       "      <td>Kalyan</td>\n",
       "    </tr>\n",
       "    <tr>\n",
       "      <th>7/22/202116:47:02</th>\n",
       "      <td>21</td>\n",
       "      <td>2</td>\n",
       "      <td>1</td>\n",
       "      <td>Thane</td>\n",
       "    </tr>\n",
       "    <tr>\n",
       "      <th>7/22/202117:18:49</th>\n",
       "      <td>20</td>\n",
       "      <td>2</td>\n",
       "      <td>1</td>\n",
       "      <td>Mumbai</td>\n",
       "    </tr>\n",
       "    <tr>\n",
       "      <th>7/22/202117:21:07</th>\n",
       "      <td>22</td>\n",
       "      <td>2</td>\n",
       "      <td>1</td>\n",
       "      <td>Shirol</td>\n",
       "    </tr>\n",
       "  </tbody>\n",
       "</table>\n",
       "</div>"
      ],
      "text/plain": [
       "                   Age.  Gender  State        City\n",
       "Timestamp                                         \n",
       "7/22/202116:17:30    21       1      1  Jaysingpur\n",
       "7/22/202116:30:15    20       2      1      Kalyan\n",
       "7/22/202116:47:02    21       2      1       Thane\n",
       "7/22/202117:18:49    20       2      1      Mumbai\n",
       "7/22/202117:21:07    22       2      1      Shirol"
      ]
     },
     "execution_count": 97,
     "metadata": {},
     "output_type": "execute_result"
    }
   ],
   "source": [
    "mod_x.head()"
   ]
  },
  {
   "cell_type": "code",
   "execution_count": 98,
   "metadata": {},
   "outputs": [],
   "source": [
    "mod_x.City = mod_x.City.replace(to_replace = ['Jaysingpur', 'Kalyan', 'Thane', 'Mumbai', 'Shirol', 'Jammu',\n",
    "       'Aurangabad', 'Nagpur', 'Indore', 'Dhule', 'Hubli', 'Nashik',\n",
    "       'Pune', 'Kolkata', 'Kolhapur', 'Sangli', 'Latur', 'Parbhani',\n",
    "       'NaviMumbai', 'Chandrapur', 'Amravati', 'Akola', 'Bhopal', 'Surat',\n",
    "       'Satara', 'Newmumbai', 'Dombivali', 'Delhi', 'Titwala', 'Jodhpur',\n",
    "       'Tumsar', 'Nanded', 'Dibrugarh', 'Chennai', 'Kankavli', 'Hubali',\n",
    "       'Nipani', 'Kurundwad', 'Barshi', 'Ludhiana', 'Bengaluru',\n",
    "       'Bhiwandi', 'Kochi', 'Tirur', 'Ichalkaranji', 'Kothrud',\n",
    "       'Pandharpur', 'Luknow', 'Varanasi', 'Agra', 'Merut', 'Noida',\n",
    "       'Agara', 'Amritsar', 'Patiala', 'Guwahati', 'Agartala',\n",
    "       'Jalandhar', 'Lucknow', 'Jaisingpur'], value = [i for i in range(1,61)])"
   ]
  },
  {
   "cell_type": "code",
   "execution_count": 99,
   "metadata": {},
   "outputs": [
    {
     "data": {
      "text/html": [
       "<div>\n",
       "<style scoped>\n",
       "    .dataframe tbody tr th:only-of-type {\n",
       "        vertical-align: middle;\n",
       "    }\n",
       "\n",
       "    .dataframe tbody tr th {\n",
       "        vertical-align: top;\n",
       "    }\n",
       "\n",
       "    .dataframe thead th {\n",
       "        text-align: right;\n",
       "    }\n",
       "</style>\n",
       "<table border=\"1\" class=\"dataframe\">\n",
       "  <thead>\n",
       "    <tr style=\"text-align: right;\">\n",
       "      <th></th>\n",
       "      <th>Age.</th>\n",
       "      <th>Gender</th>\n",
       "      <th>State</th>\n",
       "      <th>City</th>\n",
       "    </tr>\n",
       "    <tr>\n",
       "      <th>Timestamp</th>\n",
       "      <th></th>\n",
       "      <th></th>\n",
       "      <th></th>\n",
       "      <th></th>\n",
       "    </tr>\n",
       "  </thead>\n",
       "  <tbody>\n",
       "    <tr>\n",
       "      <th>7/22/202116:17:30</th>\n",
       "      <td>21</td>\n",
       "      <td>1</td>\n",
       "      <td>1</td>\n",
       "      <td>1</td>\n",
       "    </tr>\n",
       "    <tr>\n",
       "      <th>7/22/202116:30:15</th>\n",
       "      <td>20</td>\n",
       "      <td>2</td>\n",
       "      <td>1</td>\n",
       "      <td>2</td>\n",
       "    </tr>\n",
       "    <tr>\n",
       "      <th>7/22/202116:47:02</th>\n",
       "      <td>21</td>\n",
       "      <td>2</td>\n",
       "      <td>1</td>\n",
       "      <td>3</td>\n",
       "    </tr>\n",
       "    <tr>\n",
       "      <th>7/22/202117:18:49</th>\n",
       "      <td>20</td>\n",
       "      <td>2</td>\n",
       "      <td>1</td>\n",
       "      <td>4</td>\n",
       "    </tr>\n",
       "    <tr>\n",
       "      <th>7/22/202117:21:07</th>\n",
       "      <td>22</td>\n",
       "      <td>2</td>\n",
       "      <td>1</td>\n",
       "      <td>5</td>\n",
       "    </tr>\n",
       "  </tbody>\n",
       "</table>\n",
       "</div>"
      ],
      "text/plain": [
       "                   Age.  Gender  State  City\n",
       "Timestamp                                   \n",
       "7/22/202116:17:30    21       1      1     1\n",
       "7/22/202116:30:15    20       2      1     2\n",
       "7/22/202116:47:02    21       2      1     3\n",
       "7/22/202117:18:49    20       2      1     4\n",
       "7/22/202117:21:07    22       2      1     5"
      ]
     },
     "execution_count": 99,
     "metadata": {},
     "output_type": "execute_result"
    }
   ],
   "source": [
    "mod_x.head()"
   ]
  },
  {
   "cell_type": "code",
   "execution_count": 100,
   "metadata": {},
   "outputs": [
    {
     "data": {
      "text/plain": [
       "(204, 4)"
      ]
     },
     "execution_count": 100,
     "metadata": {},
     "output_type": "execute_result"
    }
   ],
   "source": [
    "X = mod_x\n",
    "X.head()\n",
    "X.shape"
   ]
  },
  {
   "cell_type": "code",
   "execution_count": 101,
   "metadata": {},
   "outputs": [
    {
     "data": {
      "text/plain": [
       "(204,)"
      ]
     },
     "execution_count": 101,
     "metadata": {},
     "output_type": "execute_result"
    }
   ],
   "source": [
    "y = df.Selectanyoneproductyoulike.replace(to_replace = ['ColorFitProSmartwatch', 'AmazonPrimeSubscription',\n",
    "       'FireBolttHeadphones', 'FiftyShadesofGrey', 'FoggPerfumeforMen',\n",
    "       'pTronLiteEarphones', \"Men'sShoesSneakers\", 'LeatherWalletforMen'], value = [i for i in range(1,9)])\n",
    "y.shape"
   ]
  },
  {
   "cell_type": "code",
   "execution_count": 102,
   "metadata": {},
   "outputs": [
    {
     "data": {
      "text/html": [
       "<div>\n",
       "<style scoped>\n",
       "    .dataframe tbody tr th:only-of-type {\n",
       "        vertical-align: middle;\n",
       "    }\n",
       "\n",
       "    .dataframe tbody tr th {\n",
       "        vertical-align: top;\n",
       "    }\n",
       "\n",
       "    .dataframe thead th {\n",
       "        text-align: right;\n",
       "    }\n",
       "</style>\n",
       "<table border=\"1\" class=\"dataframe\">\n",
       "  <thead>\n",
       "    <tr style=\"text-align: right;\">\n",
       "      <th></th>\n",
       "      <th>Age.</th>\n",
       "      <th>Gender</th>\n",
       "      <th>State</th>\n",
       "      <th>City</th>\n",
       "    </tr>\n",
       "    <tr>\n",
       "      <th>Timestamp</th>\n",
       "      <th></th>\n",
       "      <th></th>\n",
       "      <th></th>\n",
       "      <th></th>\n",
       "    </tr>\n",
       "  </thead>\n",
       "  <tbody>\n",
       "    <tr>\n",
       "      <th>7/22/202116:17:30</th>\n",
       "      <td>21</td>\n",
       "      <td>1</td>\n",
       "      <td>1</td>\n",
       "      <td>1</td>\n",
       "    </tr>\n",
       "    <tr>\n",
       "      <th>7/22/202116:30:15</th>\n",
       "      <td>20</td>\n",
       "      <td>2</td>\n",
       "      <td>1</td>\n",
       "      <td>2</td>\n",
       "    </tr>\n",
       "    <tr>\n",
       "      <th>7/22/202116:47:02</th>\n",
       "      <td>21</td>\n",
       "      <td>2</td>\n",
       "      <td>1</td>\n",
       "      <td>3</td>\n",
       "    </tr>\n",
       "    <tr>\n",
       "      <th>7/22/202117:18:49</th>\n",
       "      <td>20</td>\n",
       "      <td>2</td>\n",
       "      <td>1</td>\n",
       "      <td>4</td>\n",
       "    </tr>\n",
       "    <tr>\n",
       "      <th>7/22/202117:21:07</th>\n",
       "      <td>22</td>\n",
       "      <td>2</td>\n",
       "      <td>1</td>\n",
       "      <td>5</td>\n",
       "    </tr>\n",
       "    <tr>\n",
       "      <th>...</th>\n",
       "      <td>...</td>\n",
       "      <td>...</td>\n",
       "      <td>...</td>\n",
       "      <td>...</td>\n",
       "    </tr>\n",
       "    <tr>\n",
       "      <th>8/6/202110:56:10</th>\n",
       "      <td>45</td>\n",
       "      <td>3</td>\n",
       "      <td>1</td>\n",
       "      <td>60</td>\n",
       "    </tr>\n",
       "    <tr>\n",
       "      <th>8/6/202110:56:10</th>\n",
       "      <td>21</td>\n",
       "      <td>2</td>\n",
       "      <td>1</td>\n",
       "      <td>15</td>\n",
       "    </tr>\n",
       "    <tr>\n",
       "      <th>8/6/202110:57:20</th>\n",
       "      <td>45</td>\n",
       "      <td>1</td>\n",
       "      <td>1</td>\n",
       "      <td>5</td>\n",
       "    </tr>\n",
       "    <tr>\n",
       "      <th>8/6/202110:58:05</th>\n",
       "      <td>45</td>\n",
       "      <td>2</td>\n",
       "      <td>1</td>\n",
       "      <td>5</td>\n",
       "    </tr>\n",
       "    <tr>\n",
       "      <th>8/6/202110:59:09</th>\n",
       "      <td>23</td>\n",
       "      <td>2</td>\n",
       "      <td>1</td>\n",
       "      <td>13</td>\n",
       "    </tr>\n",
       "  </tbody>\n",
       "</table>\n",
       "<p>204 rows × 4 columns</p>\n",
       "</div>"
      ],
      "text/plain": [
       "                   Age.  Gender  State  City\n",
       "Timestamp                                   \n",
       "7/22/202116:17:30    21       1      1     1\n",
       "7/22/202116:30:15    20       2      1     2\n",
       "7/22/202116:47:02    21       2      1     3\n",
       "7/22/202117:18:49    20       2      1     4\n",
       "7/22/202117:21:07    22       2      1     5\n",
       "...                 ...     ...    ...   ...\n",
       "8/6/202110:56:10     45       3      1    60\n",
       "8/6/202110:56:10     21       2      1    15\n",
       "8/6/202110:57:20     45       1      1     5\n",
       "8/6/202110:58:05     45       2      1     5\n",
       "8/6/202110:59:09     23       2      1    13\n",
       "\n",
       "[204 rows x 4 columns]"
      ]
     },
     "execution_count": 102,
     "metadata": {},
     "output_type": "execute_result"
    }
   ],
   "source": [
    "X\n"
   ]
  },
  {
   "cell_type": "code",
   "execution_count": 103,
   "metadata": {},
   "outputs": [],
   "source": [
    "from sklearn.model_selection import train_test_split\n",
    "X_train, X_test ,y_train ,y_test = train_test_split(X,y,train_size = 0.5 , random_state = 1)"
   ]
  },
  {
   "cell_type": "code",
   "execution_count": 104,
   "metadata": {},
   "outputs": [],
   "source": [
    "from sklearn.tree import DecisionTreeClassifier, export_graphviz\n",
    "import numpy as np"
   ]
  },
  {
   "cell_type": "code",
   "execution_count": 105,
   "metadata": {},
   "outputs": [],
   "source": [
    "dt = DecisionTreeClassifier(min_samples_split=5, random_state=99)"
   ]
  },
  {
   "cell_type": "code",
   "execution_count": 106,
   "metadata": {},
   "outputs": [
    {
     "data": {
      "text/plain": [
       "DecisionTreeClassifier(ccp_alpha=0.0, class_weight=None, criterion='gini',\n",
       "                       max_depth=None, max_features=None, max_leaf_nodes=None,\n",
       "                       min_impurity_decrease=0.0, min_impurity_split=None,\n",
       "                       min_samples_leaf=1, min_samples_split=5,\n",
       "                       min_weight_fraction_leaf=0.0, presort='deprecated',\n",
       "                       random_state=99, splitter='best')"
      ]
     },
     "execution_count": 106,
     "metadata": {},
     "output_type": "execute_result"
    }
   ],
   "source": [
    "dt.fit(X_train,y_train)"
   ]
  },
  {
   "cell_type": "code",
   "execution_count": 107,
   "metadata": {},
   "outputs": [
    {
     "data": {
      "text/plain": [
       "0.21568627450980393"
      ]
     },
     "execution_count": 107,
     "metadata": {},
     "output_type": "execute_result"
    }
   ],
   "source": [
    "dt.score(X_test, y_test)"
   ]
  },
  {
   "cell_type": "code",
   "execution_count": 108,
   "metadata": {},
   "outputs": [
    {
     "data": {
      "text/plain": [
       "array([1, 2, 3, 3, 1, 2, 1, 3, 2, 3, 3, 3, 3, 3, 3, 3, 3, 3, 3, 2, 2, 1,\n",
       "       2, 1, 1, 1, 1, 1, 2, 1, 1, 1, 1, 1, 1, 1, 1, 1, 2, 3, 2, 1, 2, 2,\n",
       "       3, 2, 2, 3, 2, 3, 2, 1, 3, 8, 3, 1, 2, 3, 4, 5, 3, 1, 1, 5, 5, 3,\n",
       "       3, 3, 2, 1, 3, 6, 3, 6, 1, 1, 3, 2, 2, 3, 2, 2, 2, 6, 1, 1, 1, 8,\n",
       "       2, 1, 1, 1, 1, 3, 2, 2, 3, 6, 3, 1, 2, 4, 1, 1, 3, 2, 2, 1, 2, 1,\n",
       "       1, 6, 1, 1, 1, 3, 5, 4, 2, 2, 1, 4, 1, 5, 5, 5, 1, 3, 2, 1, 6, 5,\n",
       "       5, 2, 1, 4, 5, 1, 5, 6, 4, 3, 6, 6, 1, 1, 5, 1, 1, 1, 1, 1, 8, 6,\n",
       "       6, 4, 8, 4, 6, 5, 4, 1, 2, 3, 3, 1, 3, 6, 1, 3, 3, 1, 3, 1, 5, 1,\n",
       "       3, 8, 3, 6, 2, 5, 2, 3, 2, 3, 1, 4, 5, 2, 2, 2, 1, 8, 1, 6, 1, 2,\n",
       "       4, 5, 2, 5, 5, 3], dtype=int64)"
      ]
     },
     "execution_count": 108,
     "metadata": {},
     "output_type": "execute_result"
    }
   ],
   "source": [
    "dt.predict(X)"
   ]
  },
  {
   "cell_type": "code",
   "execution_count": 109,
   "metadata": {},
   "outputs": [
    {
     "data": {
      "text/plain": [
       "85"
      ]
     },
     "execution_count": 109,
     "metadata": {},
     "output_type": "execute_result"
    }
   ],
   "source": [
    "sum(y == dt.predict(X))"
   ]
  },
  {
   "cell_type": "code",
   "execution_count": 110,
   "metadata": {},
   "outputs": [
    {
     "data": {
      "text/plain": [
       "0.4166666666666667"
      ]
     },
     "execution_count": 110,
     "metadata": {},
     "output_type": "execute_result"
    }
   ],
   "source": [
    "85/204"
   ]
  },
  {
   "cell_type": "code",
   "execution_count": 111,
   "metadata": {},
   "outputs": [
    {
     "data": {
      "text/plain": [
       "Age.      0.392395\n",
       "Gender    0.116859\n",
       "State     0.086051\n",
       "City      0.404696\n",
       "dtype: float64"
      ]
     },
     "execution_count": 111,
     "metadata": {},
     "output_type": "execute_result"
    }
   ],
   "source": [
    "imp = pd.Series(dt.feature_importances_, index=X.columns)\n",
    "imp"
   ]
  },
  {
   "cell_type": "code",
   "execution_count": 112,
   "metadata": {},
   "outputs": [
    {
     "data": {
      "text/plain": [
       "array([1], dtype=int64)"
      ]
     },
     "execution_count": 112,
     "metadata": {},
     "output_type": "execute_result"
    }
   ],
   "source": [
    "dt.predict(np.array([21,1,1,5]).reshape(1, -1), check_input=True)"
   ]
  },
  {
   "cell_type": "code",
   "execution_count": 113,
   "metadata": {},
   "outputs": [],
   "source": [
    "import cv2"
   ]
  },
  {
   "cell_type": "code",
   "execution_count": 114,
   "metadata": {},
   "outputs": [],
   "source": [
    "def get_gift():\n",
    "    age = int(input('Enter Age '))\n",
    "    gen = int(input('Please enter 1=Female, 2=Male, 3=Prefer not to say'))\n",
    "    state = int(input('Please enter any number between 1 to 14'))\n",
    "    city = int(input('please enter  any number between 1 to 60'))\n",
    "    p = dt.predict(np.array([age,gen,state,city]).reshape(1, -1), check_input=True)\n",
    "    product = df.Selectanyoneproductyoulike.unique()\n",
    "    img = cv2.imread(str(p[0])+\".jpg\")\n",
    "    #print(img)\n",
    "    plt.imshow(img);\n",
    "    #print(p)\n",
    "    return print('you will get ', product[p[0]-1] ,'as a gift')"
   ]
  },
  {
   "cell_type": "code",
   "execution_count": 115,
   "metadata": {},
   "outputs": [
    {
     "name": "stdout",
     "output_type": "stream",
     "text": [
      "Enter Age 20\n",
      "Please enter 1=Female, 2=Male, 3=Prefer not to say1\n",
      "Please enter any number between 1 to 149\n",
      "please enter  any number between 1 to 6034\n",
      "you will get  AmazonPrimeSubscription as a gift\n"
     ]
    },
    {
     "data": {
      "image/png": "[encoded data removed]",
      "text/plain": [
       "<Figure size 432x288 with 1 Axes>"
      ]
     },
     "metadata": {
      "needs_background": "light"
     },
     "output_type": "display_data"
    }
   ],
   "source": [
    "get_gift()"
   ]
  },
  {
   "cell_type": "code",
   "execution_count": null,
   "metadata": {},
   "outputs": [],
   "source": []
  }
 ],
 "metadata": {
  "kernelspec": {
   "display_name": "Python 3",
   "language": "python",
   "name": "python3"
  }
 },
 "nbformat": 4,
 "nbformat_minor": 4
}
